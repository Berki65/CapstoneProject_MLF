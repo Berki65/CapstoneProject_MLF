{
 "cells": [
  {
   "metadata": {},
   "cell_type": "markdown",
   "source": "# Machine Learning Project",
   "id": "1dd3de7524db47a9"
  },
  {
   "metadata": {},
   "cell_type": "markdown",
   "source": [
    " 1) data curation: how you choose the features (X) and the target (Y)\n",
    " 2) exploratory data analysis (including visualization and correlation matrix)\n",
    " 3) univariate results (and meta analysis)\n",
    " 4) multivariate results (and meta analysis)\n",
    " 5) benchmark linear/logistic regressions (including higher-order polynomials and/or interaction terms)\n",
    " 6) one machine learning algorithm (e.g., random forests or boosting)\n",
    " 7) k-fold cross-validation \n",
    " 8) performance evaluation (R-squared, AUROC, etc.)\n",
    " 9) key features (dimension reduction and feature selection techniques if necessary)\n",
    " 10) synthetic interpretation of results"
   ],
   "id": "281e58ad36f26581"
  },
  {
   "metadata": {},
   "cell_type": "markdown",
   "source": "## Introduction",
   "id": "95740ad3c8b8eccb"
  },
  {
   "metadata": {},
   "cell_type": "markdown",
   "source": [
    "For my Project I choose a **Airplane Engine Dataset** which has **27** columns and **20631** entries for the train dataset The test dataset contains **11939** entries. \n",
    "The dataset contains the following columns:\n",
    "- id: Engine ID, \n",
    "- cycle: Cycle number,\n",
    "- setting1-3: Engine setting 1-3,\n",
    "- s1-s21: Sensor measurements s1-s21,\n",
    "- Y: Binary target label indicating engine swap (1: needs swapping, 0: does not need swapping)."
   ],
   "id": "297860e5985a0ba1"
  },
  {
   "metadata": {},
   "cell_type": "markdown",
   "source": "## Importing libraries",
   "id": "421a67cf0a25738"
  },
  {
   "metadata": {
    "ExecuteTime": {
     "end_time": "2024-12-01T08:51:06.192412Z",
     "start_time": "2024-12-01T08:51:06.188829Z"
    }
   },
   "cell_type": "code",
   "source": [
    "from matplotlib import pyplot as plt\n",
    "import seaborn as sns\n",
    "import pandas as pd\n",
    "from mpl_toolkits.mplot3d import Axes3D\n",
    "from prompt_toolkit.key_binding.bindings.named_commands import yank_last_arg\n",
    "from sklearn.linear_model import LinearRegression"
   ],
   "id": "e7345ac4c349ce36",
   "outputs": [],
   "execution_count": 121
  },
  {
   "metadata": {},
   "cell_type": "markdown",
   "source": "## Load and clear up dataset",
   "id": "b8e12046d0bf064b"
  },
  {
   "metadata": {},
   "cell_type": "markdown",
   "source": "### 1) Load and edit the Dataset",
   "id": "f3e554f4986dbb29"
  },
  {
   "metadata": {
    "ExecuteTime": {
     "end_time": "2024-12-01T08:51:06.250467Z",
     "start_time": "2024-12-01T08:51:06.198366Z"
    }
   },
   "cell_type": "code",
   "source": [
    "# Load the dataset\n",
    "dataset_train = pd.read_csv(\"PM_train.csv\")\n",
    "dataset_test = pd.read_csv(\"PM_test.csv\")\n",
    "\n",
    "# Shift the cycle column forward by 1 to identify the last cycle before it resets\n",
    "dataset_train['Y'] = (dataset_train['cycle'] == dataset_train.groupby('id')['cycle'].transform('max')).astype(int)\n",
    "dataset_test['Y'] = (dataset_test['cycle'] == dataset_test.groupby('id')['cycle'].transform('max')).astype(int)\n",
    "\n",
    "# Define selected columns, including 'Y'\n",
    "selected_columns = ['id', 'cycle', 'setting1', 'setting2', 's2', 's3', 's4', 's6', 's7', 's8', 's9', 's11', 's12', 's13', 's14', 's15', 's17', 's20', 's21', 'Y']\n",
    "\n",
    "# Select the subset of data\n",
    "selected_dataset_train = dataset_train[selected_columns]\n",
    "selected_dataset_test = dataset_test[selected_columns]\n",
    "\n",
    "## Save the selected dataset to an Excel file\n",
    "# selected_dataset.to_excel(\"selected_dataset_with_Y.xlsx\", index=False)\n",
    "\n",
    "# Sort by 'id' and 'cycle' to ensure the data is in the correct order\n",
    "dataset_train = dataset_train.sort_values(['id', 'cycle'])\n",
    "dataset_test = dataset_test.sort_values(['id', 'cycle'])\n",
    "\n",
    "# Group by 'id' and select the last 10 cycles for each 'id'\n",
    "last_10_cycles_train = dataset_train.groupby('id').tail(10)\n",
    "last_10_cycles_test = dataset_test.groupby('id').tail(10)\n",
    "\n",
    "# Further filter the selected columns for this subset\n",
    "selected_last_10_cycles_train = last_10_cycles_train[selected_columns]\n",
    "selected_last_10_cycles_test = last_10_cycles_test[selected_columns]\n",
    "\n",
    "# Display the result\n",
    "selected_last_10_cycles_train.head()\n",
    "selected_last_10_cycles_test.head()\n",
    "\n",
    "# Define the features (X) and target (Y)\n",
    "X_train = selected_dataset_train # .drop(columns=['Y', 'id', 'cycle'])  # Drop 'Y', 'id', and 'cycle' if they are not part of the model\n",
    "Y_train = selected_dataset_train['Y']\n",
    "X_test = selected_dataset_test #.drop(columns=['Y', 'id', 'cycle'])  # Drop 'Y', 'id', and 'cycle' if they are not part of the model\n",
    "Y_test = selected_dataset_test['Y']\n",
    "\n",
    "# Alternatively, if using only the last 10 cycles:\n",
    "X_last_10_train = selected_last_10_cycles_train.drop(columns=['Y', 'id', 'cycle'])\n",
    "Y_last_10_train = selected_last_10_cycles_train['Y']\n",
    "X_last_10_test = selected_last_10_cycles_test.drop(columns=['Y', 'id', 'cycle'])\n",
    "Y_last_10_test = selected_last_10_cycles_test['Y']\n"
   ],
   "id": "f3fdc0d7b157bc90",
   "outputs": [],
   "execution_count": 122
  },
  {
   "metadata": {},
   "cell_type": "markdown",
   "source": [
    "After visualizing the dataset, I decided to use the following columns as features:\n",
    "- id: Engine ID,\n",
    "- cycle: Cycle number,\n",
    "- setting1: Engine setting 1,\n",
    "- setting2: Engine setting 2,\n",
    "- s2: Sensor measurement 2,\n",
    "- s3: Sensor measurement 3,\n",
    "- s4: Sensor measurement 4,\n",
    "- s6: Sensor measurement 6,\n",
    "- s7: Sensor measurement 7,\n",
    "- s8: Sensor measurement 8,\n",
    "- s9: Sensor measurement 9,\n",
    "- s11: Sensor measurement 11,\n",
    "- s12: Sensor measurement 12,\n",
    "- s13: Sensor measurement 13,\n",
    "- s14: Sensor measurement 14,\n",
    "- s15: Sensor measurement 15,\n",
    "- s17: Sensor measurement 17,\n",
    "- s20: Sensor measurement 20,\n",
    "- s21: Sensor measurement 21,\n",
    "- Y: Binary target label indicating engine swap (1: needs swapping, 0: does not need swapping). Which I created on my own by using the last value before the id goes up by one.   \n",
    "\n",
    "The reason for this is that these values are the most relevant for the prediction of the target label 'Y' because the other columns are null values and don't change.\n",
    " "
   ],
   "id": "f5f471170f5a4237"
  },
  {
   "metadata": {},
   "cell_type": "markdown",
   "source": "### 2.1) Visualization of the whole Dataset",
   "id": "4e9e1e485e4cff15"
  },
  {
   "metadata": {
    "ExecuteTime": {
     "end_time": "2024-12-01T08:51:06.302533Z",
     "start_time": "2024-12-01T08:51:06.301051Z"
    }
   },
   "cell_type": "code",
   "source": [
    "# # Visualization \n",
    "# selected_dataset_train.head()\n",
    "# selected_dataset_train.info()\n",
    "# \n",
    "# for column in selected_dataset_train.columns:\n",
    "#     if column not in ['id', 'Y']:  # Skip 'id' and 'Y' for this general visualization\n",
    "#         plt.figure(figsize=(10, 5))\n",
    "#         plt.title(f\"Distribution of {column}\")\n",
    "#         plt.plot(selected_dataset_train['cycle'], selected_dataset_train[column], alpha=0.7)\n",
    "#         plt.xlabel(\"Cycle\")\n",
    "#         plt.ylabel(column)\n",
    "#         plt.grid(True, alpha=0.5)\n",
    "#         plt.show()\n"
   ],
   "id": "d039a8b50c7b8c5f",
   "outputs": [],
   "execution_count": 123
  },
  {
   "metadata": {},
   "cell_type": "markdown",
   "source": "I this part I visualized the whole dataset and the distribution of the columns in the dataset. To get a rough view about the dataset.",
   "id": "de5c5c2eb783a26"
  },
  {
   "metadata": {},
   "cell_type": "markdown",
   "source": "### 2.2) Visualization of the last 10 cycles",
   "id": "a8748228ffa8eea3"
  },
  {
   "metadata": {
    "ExecuteTime": {
     "end_time": "2024-12-01T08:51:06.353439Z",
     "start_time": "2024-12-01T08:51:06.351860Z"
    }
   },
   "cell_type": "code",
   "source": [
    "# selected_last_10_cycles_train.head()\n",
    "# selected_last_10_cycles_train.info()\n",
    "# \n",
    "# for column in selected_last_10_cycles_train.columns:\n",
    "#     if column not in ['id', 'Y']:  # Skip 'id' and 'Y' for this general visualization\n",
    "#         plt.figure(figsize=(10, 5))\n",
    "#         plt.title(f\"Distribution of {column}\")\n",
    "#         plt.plot(selected_last_10_cycles_train['cycle'], selected_last_10_cycles_train[column], alpha=0.7)\n",
    "#         plt.xlabel(\"Cycle\")\n",
    "#         plt.ylabel(column)\n",
    "#         plt.grid(True, alpha=0.5)\n",
    "#         plt.show()"
   ],
   "id": "87c96e24a1f91e01",
   "outputs": [],
   "execution_count": 124
  },
  {
   "metadata": {},
   "cell_type": "markdown",
   "source": "I this part I visualized the last 10 cycles of the dataset and the distribution of the columns in the dataset. To get a more narrow insight about the dataset.",
   "id": "97fbd53667d30291"
  },
  {
   "metadata": {},
   "cell_type": "markdown",
   "source": "### 3) Scatter Plot Matrix",
   "id": "443f6e62111be658"
  },
  {
   "metadata": {
    "ExecuteTime": {
     "end_time": "2024-12-01T08:51:06.403963Z",
     "start_time": "2024-12-01T08:51:06.402289Z"
    }
   },
   "cell_type": "code",
   "source": [
    "# # Heatmap\n",
    "# plt.figure(figsize=(12, 10))\n",
    "# correlation_matrix = selected_last_10_cycles_train.corr()  # Compute the correlation matrix\n",
    "# sns.heatmap(correlation_matrix, annot=True, cmap='coolwarm', fmt='.2f')\n",
    "# plt.title('Correlation Matrix Heatmap (Last 10 Cycles)')\n",
    "# plt.show()\n",
    "# \n",
    "# # Scatter plot matrix\n",
    "# numeric_columns = [col for col in selected_columns if col not in ['id', 'Y', 'cycle']]\n",
    "# sns.pairplot(selected_last_10_cycles_train, vars=numeric_columns[:20])  # Limit to first 6 for clarity\n",
    "# plt.suptitle('Scatter Plot Matrix (Last 10 Cycles)', y=1.02)\n",
    "# plt.show()\n",
    "# \n",
    "# # 3D Scatter Plot\n",
    "# fig = plt.figure(figsize=(10, 7))\n",
    "# ax = fig.add_subplot(111, projection='3d')\n",
    "# ax.scatter(\n",
    "#     selected_last_10_cycles_train['setting1'],\n",
    "#     selected_last_10_cycles_train['s2'],\n",
    "#     selected_last_10_cycles_train['s3'],\n",
    "#     c='b', marker='o'\n",
    "# )\n",
    "# \n",
    "# # Label the axes\n",
    "# ax.set_xlabel('Setting 1')\n",
    "# ax.set_ylabel('S2')\n",
    "# ax.set_zlabel('S3')\n",
    "# plt.title('3D Scatter Plot (Last 10 Cycles)')\n",
    "# plt.show()"
   ],
   "id": "1af116a0148278c0",
   "outputs": [],
   "execution_count": 125
  },
  {
   "metadata": {},
   "cell_type": "markdown",
   "source": "### 4) Linear Regression",
   "id": "fa1dcc68789bc81e"
  },
  {
   "metadata": {
    "ExecuteTime": {
     "end_time": "2024-12-01T08:58:28.071463Z",
     "start_time": "2024-12-01T08:58:28.041608Z"
    }
   },
   "cell_type": "code",
   "source": [
    "from sklearn.metrics import accuracy_score, classification_report, r2_score\n",
    "from sklearn.linear_model import LinearRegression\n",
    "\n",
    "# Fit the regression model\n",
    "model = LinearRegression()\n",
    "# model.fit(X_train, Y_train)\n",
    "model.fit(X_last_10_train, Y_last_10_train)\n",
    "\n",
    "# Define the threshold for binary classification\n",
    "threshold = 0\n",
    "\n",
    "# Predict using the regression model\n",
    "y_pred = model.predict(X_last_10_test)\n",
    "\n",
    "print(y_pred.min(), y_pred.max())\n",
    "\n",
    "# Convert regression outputs and true labels to binary\n",
    "y_test_binary = selected_last_10_cycles_test['Y']\n",
    "y_pred_binary = (y_pred <= threshold).astype(int)\n",
    "\n",
    "# Evaluate the model\n",
    "accuracy = accuracy_score(y_test_binary, y_pred_binary)\n",
    "\n",
    "print(f'Accuracy: {accuracy}')\n",
    "print(classification_report(y_test_binary, y_pred_binary))"
   ],
   "id": "e10320cbbe9288",
   "outputs": [
    {
     "name": "stdout",
     "output_type": "stream",
     "text": [
      "-1.6841581452790706 0.19697901928429928\n",
      "Accuracy: 0.10326086956521739\n",
      "              precision    recall  f1-score   support\n",
      "\n",
      "           0       0.64      0.01      0.02       828\n",
      "           1       0.10      0.96      0.18        92\n",
      "\n",
      "    accuracy                           0.10       920\n",
      "   macro avg       0.37      0.48      0.10       920\n",
      "weighted avg       0.58      0.10      0.03       920\n",
      "\n"
     ]
    }
   ],
   "execution_count": 133
  },
  {
   "metadata": {},
   "cell_type": "markdown",
   "source": "### 5) Random Forest",
   "id": "fdfd919f873e5413"
  },
  {
   "metadata": {
    "ExecuteTime": {
     "end_time": "2024-12-01T08:51:15.051861Z",
     "start_time": "2024-12-01T08:51:06.652319Z"
    }
   },
   "cell_type": "code",
   "source": [
    "from sklearn.ensemble import RandomForestClassifier\n",
    "from sklearn.model_selection import train_test_split, cross_val_score\n",
    "from sklearn.metrics import classification_report, roc_auc_score, confusion_matrix, roc_curve\n",
    "\n",
    "# Step 1: Create target labels indicating engine swap (1: needs swapping, 0: does not need swapping)\n",
    "threshold = 10  # Define the threshold for remaining cycles\n",
    "train_data['RUL'] = train_data.groupby('id')['cycle'].transform(max) - train_data['cycle']\n",
    "train_data['Y'] = (train_data['RUL'] <= threshold).astype(int)\n",
    "\n",
    "# Step 2: Define features (X) and target (Y)\n",
    "features = train_data.columns.difference(['id', 'cycle', 'RUL', 'Y'])\n",
    "X = train_data[features]\n",
    "y = train_data['Y']\n",
    "\n",
    "# Step 3: Train-Test Split\n",
    "X_train, X_test, y_train, y_test = train_test_split(X, y, test_size=0.2, random_state=42)\n",
    "\n",
    "# Step 4: Random Forest Classifier with Cross-Validation\n",
    "rf = RandomForestClassifier(random_state=42, n_estimators=100)\n",
    "cv_scores = cross_val_score(rf, X_train, y_train, cv=5, scoring='roc_auc')\n",
    "\n",
    "# Fit the model\n",
    "rf.fit(X_train, y_train)\n",
    "\n",
    "# Evaluate the model on the test set\n",
    "y_pred = rf.predict(X_test)\n",
    "y_pred_proba = rf.predict_proba(X_test)[:, 1]\n",
    "\n",
    "# Performance Metrics\n",
    "classification_report_result = classification_report(y_test, y_pred)\n",
    "roc_auc = roc_auc_score(y_test, y_pred_proba)\n",
    "\n",
    "# Print results\n",
    "print(\"Classification Report:\\n\", classification_report_result)\n",
    "print(\"ROC-AUC Score:\", roc_auc)\n",
    "print(\"Mean Cross-Validation AUC:\", cv_scores.mean())\n",
    "\n",
    "# Generate the confusion matrix\n",
    "conf_matrix_rf = confusion_matrix(y_test, y_pred)\n",
    "\n",
    "# Extract TP, FP, FN, TN from the confusion matrix\n",
    "TN_nn, FP_nn, FN_nn, TP_nn = conf_matrix_nn.ravel()\n",
    "\n",
    "# Print the TP/FP breakdown\n",
    "print(f\"True Positives (TP): {TP_nn}\")\n",
    "print(f\"False Positives (FP): {FP_nn}\")\n",
    "print(f\"True Negatives (TN): {TN_nn}\")\n",
    "print(f\"False Negatives (FN): {FN_nn}\")\n",
    "\n",
    "# Optionally, display the confusion matrix\n",
    "print(\"\\nConfusion Matrix:\")\n",
    "print(conf_matrix_rf)\n",
    "\n",
    "auroc = roc_auc_score(y_test, y_pred_proba)\n",
    "print(f\"\\nAUROC: {auroc}\")\n",
    "\n",
    "# Plot the ROC curve\n",
    "fpr, tpr, thresholds = roc_curve(y_test, y_pred_proba)\n",
    "plt.figure(figsize=(8, 6))\n",
    "plt.plot(fpr, tpr, label=f\"AUROC = {auroc:.2f}\")\n",
    "plt.plot([0, 1], [0, 1], 'k--', label=\"Random Guessing\")\n",
    "plt.xlabel(\"False Positive Rate\")\n",
    "plt.ylabel(\"True Positive Rate\")\n",
    "plt.title(\"ROC Curve\")\n",
    "plt.legend(loc=\"lower right\")\n",
    "plt.grid()\n",
    "plt.show()"
   ],
   "id": "922e7c5bcbb8ce4b",
   "outputs": [
    {
     "name": "stdout",
     "output_type": "stream",
     "text": [
      "Classification Report:\n",
      "               precision    recall  f1-score   support\n",
      "\n",
      "           0       0.99      0.99      0.99      3918\n",
      "           1       0.87      0.82      0.84       209\n",
      "\n",
      "    accuracy                           0.98      4127\n",
      "   macro avg       0.93      0.91      0.92      4127\n",
      "weighted avg       0.98      0.98      0.98      4127\n",
      "\n",
      "ROC-AUC Score: 0.9958075963959738\n",
      "Mean Cross-Validation AUC: 0.9929789733679174\n",
      "True Positives (TP): 186\n",
      "False Positives (FP): 36\n",
      "True Negatives (TN): 3882\n",
      "False Negatives (FN): 23\n",
      "\n",
      "Confusion Matrix:\n",
      "[[3893   25]\n",
      " [  38  171]]\n",
      "\n",
      "AUROC: 0.9958075963959738\n"
     ]
    },
    {
     "data": {
      "text/plain": [
       "<Figure size 800x600 with 1 Axes>"
      ],
      "image/png": "[encoded data removed]"
     },
     "metadata": {},
     "output_type": "display_data"
    }
   ],
   "execution_count": 127
  },
  {
   "metadata": {},
   "cell_type": "markdown",
   "source": "### Gradient Boosting",
   "id": "68c287978d93b876"
  },
  {
   "metadata": {
    "ExecuteTime": {
     "end_time": "2024-12-01T08:51:15.649628Z",
     "start_time": "2024-12-01T08:51:15.107197Z"
    }
   },
   "cell_type": "code",
   "source": [
    "from xgboost import XGBClassifier\n",
    "from sklearn.metrics import classification_report, roc_auc_score\n",
    "from sklearn.model_selection import cross_val_score, train_test_split\n",
    "from sklearn.preprocessing import StandardScaler\n",
    "\n",
    "# Step 1: Scale the Features (Gradient Boosting may not require scaling, but it can help in some cases)\n",
    "scaler = StandardScaler()\n",
    "X_train_scaled = scaler.fit_transform(X_train)\n",
    "X_test_scaled = scaler.transform(X_test)\n",
    "\n",
    "# Step 2: Define the Gradient Boosting Classifier\n",
    "xgb = XGBClassifier(\n",
    "    n_estimators=100,          # Number of trees\n",
    "    learning_rate=0.1,         # Step size for each iteration\n",
    "    max_depth=3,               # Maximum tree depth\n",
    "    subsample=0.8,             # Fraction of samples used for training each tree\n",
    "    colsample_bytree=0.8,      # Fraction of features used for training each tree\n",
    "    random_state=42            # For reproducibility\n",
    ")\n",
    "\n",
    "# Step 3: Cross-Validation\n",
    "cv_scores = cross_val_score(xgb, X_train_scaled, y_train, cv=5, scoring='roc_auc')\n",
    "\n",
    "# Step 4: Train the Model\n",
    "xgb.fit(X_train_scaled, y_train)\n",
    "\n",
    "# Step 5: Make Predictions\n",
    "y_pred = xgb.predict(X_test_scaled)\n",
    "y_pred_proba = xgb.predict_proba(X_test_scaled)[:, 1]\n",
    "\n",
    "# Step 6: Evaluate the Model\n",
    "print(\"Classification Report:\\n\", classification_report(y_test, y_pred))\n",
    "print(\"ROC-AUC Score:\", roc_auc_score(y_test, y_pred_proba))\n",
    "print(\"Mean Cross-Validation AUC:\", cv_scores.mean())\n",
    "\n",
    "# Generate the confusion matrix\n",
    "conf_matrix_gb = confusion_matrix(y_test, y_pred)\n",
    "\n",
    "# Extract TP, FP, FN, TN from the confusion matrix\n",
    "TN_nn, FP_nn, FN_nn, TP_nn = conf_matrix_gb.ravel()\n",
    "\n",
    "# Print the TP/FP breakdown\n",
    "print(f\"True Positives (TP): {TP_nn}\")\n",
    "print(f\"False Positives (FP): {FP_nn}\")\n",
    "print(f\"True Negatives (TN): {TN_nn}\")\n",
    "print(f\"False Negatives (FN): {FN_nn}\")\n",
    "\n",
    "# Optionally, display the confusion matrix\n",
    "print(\"\\nConfusion Matrix:\")\n",
    "print(conf_matrix_gb)\n",
    "\n",
    "auroc = roc_auc_score(y_test, y_pred_proba)\n",
    "print(f\"\\nAUROC: {auroc}\")\n",
    "\n",
    "# Plot the ROC curve\n",
    "fpr, tpr, thresholds = roc_curve(y_test, y_pred_proba)\n",
    "plt.figure(figsize=(8, 6))\n",
    "plt.plot(fpr, tpr, label=f\"AUROC = {auroc:.2f}\")\n",
    "plt.plot([0, 1], [0, 1], 'k--', label=\"Random Guessing\")\n",
    "plt.xlabel(\"False Positive Rate\")\n",
    "plt.ylabel(\"True Positive Rate\")\n",
    "plt.title(\"ROC Curve\")\n",
    "plt.legend(loc=\"lower right\")\n",
    "plt.grid()\n",
    "plt.show()"
   ],
   "id": "c4b1e4efaf721a80",
   "outputs": [
    {
     "name": "stdout",
     "output_type": "stream",
     "text": [
      "Classification Report:\n",
      "               precision    recall  f1-score   support\n",
      "\n",
      "           0       0.99      0.99      0.99      3918\n",
      "           1       0.85      0.84      0.85       209\n",
      "\n",
      "    accuracy                           0.98      4127\n",
      "   macro avg       0.92      0.91      0.92      4127\n",
      "weighted avg       0.98      0.98      0.98      4127\n",
      "\n",
      "ROC-AUC Score: 0.9958649931246046\n",
      "Mean Cross-Validation AUC: 0.9943795561560238\n",
      "True Positives (TP): 175\n",
      "False Positives (FP): 30\n",
      "True Negatives (TN): 3888\n",
      "False Negatives (FN): 34\n",
      "\n",
      "Confusion Matrix:\n",
      "[[3888   30]\n",
      " [  34  175]]\n",
      "\n",
      "AUROC: 0.9958649931246046\n"
     ]
    },
    {
     "data": {
      "text/plain": [
       "<Figure size 800x600 with 1 Axes>"
      ],
      "image/png": "[encoded data removed]"
     },
     "metadata": {},
     "output_type": "display_data"
    }
   ],
   "execution_count": 128
  },
  {
   "metadata": {},
   "cell_type": "markdown",
   "source": "### 5.3 Neural Networks (Test)",
   "id": "4a533d3e6d2ea2f"
  },
  {
   "metadata": {
    "ExecuteTime": {
     "end_time": "2024-12-01T08:51:22.778579Z",
     "start_time": "2024-12-01T08:51:15.707619Z"
    }
   },
   "cell_type": "code",
   "source": [
    "import tensorflow as tf\n",
    "from tensorflow.keras.models import Sequential\n",
    "from tensorflow.keras.layers import Dense, Dropout\n",
    "from tensorflow.keras.callbacks import EarlyStopping\n",
    "from sklearn.preprocessing import StandardScaler\n",
    "from sklearn.metrics import classification_report, roc_auc_score\n",
    "\n",
    "# Step 1: Scale the Features\n",
    "scaler = StandardScaler()\n",
    "X_train_scaled = scaler.fit_transform(X_train)\n",
    "X_test_scaled = scaler.transform(X_test)\n",
    "\n",
    "# Step 2: Build the Neural Network\n",
    "model = Sequential([\n",
    "    Dense(64, activation='relu', input_dim=X_train_scaled.shape[1]),\n",
    "    Dropout(0.3),  # Add dropout for regularization\n",
    "    Dense(32, activation='relu'),\n",
    "    Dropout(0.3),\n",
    "    Dense(1, activation='sigmoid')  # Output layer with sigmoid for binary classification\n",
    "])\n",
    "\n",
    "# Compile the model\n",
    "model.compile(optimizer='adam', loss='binary_crossentropy', metrics=['accuracy'])\n",
    "\n",
    "# Step 3: Train the Model\n",
    "early_stopping = EarlyStopping(monitor='val_loss', patience=10, restore_best_weights=True)\n",
    "\n",
    "history = model.fit(\n",
    "    X_train_scaled, y_train,\n",
    "    validation_split=0.2,\n",
    "    epochs=100,\n",
    "    batch_size=32,\n",
    "    callbacks=[early_stopping],\n",
    "    verbose=1\n",
    ")\n",
    "\n",
    "# Step 4: Evaluate the Model\n",
    "y_pred_proba_nn = model.predict(X_test_scaled)\n",
    "y_pred_nn = (y_pred_proba_nn > 0.5).astype(int)\n",
    "\n",
    "# Performance Metrics\n",
    "print(\"Classification Report:\\n\", classification_report(y_test, y_pred_nn))\n",
    "print(\"ROC-AUC Score:\", roc_auc_score(y_test, y_pred_proba_nn))\n",
    "\n",
    "# Generate the confusion matrix\n",
    "conf_matrix_nn = confusion_matrix(y_test, y_pred_nn)\n",
    "\n",
    "# Extract TP, FP, FN, TN from the confusion matrix\n",
    "TN_nn, FP_nn, FN_nn, TP_nn = conf_matrix_nn.ravel()\n",
    "\n",
    "# Print the TP/FP breakdown\n",
    "print(f\"True Positives (TP): {TP_nn}\")\n",
    "print(f\"False Positives (FP): {FP_nn}\")\n",
    "print(f\"True Negatives (TN): {TN_nn}\")\n",
    "print(f\"False Negatives (FN): {FN_nn}\")\n",
    "\n",
    "# Optionally, display the confusion matrix\n",
    "print(\"\\nConfusion Matrix:\")\n",
    "print(conf_matrix_nn)\n",
    "\n",
    "auroc = roc_auc_score(y_test, y_pred_proba_nn)\n",
    "print(f\"AUROC: {auroc}\")\n",
    "\n",
    "# Plot the ROC curve\n",
    "fpr, tpr, thresholds = roc_curve(y_test, y_pred_proba)\n",
    "plt.figure(figsize=(8, 6))\n",
    "plt.plot(fpr, tpr, label=f\"AUROC = {auroc:.2f}\")\n",
    "plt.plot([0, 1], [0, 1], 'k--', label=\"Random Guessing\")\n",
    "plt.xlabel(\"False Positive Rate\")\n",
    "plt.ylabel(\"True Positive Rate\")\n",
    "plt.title(\"ROC Curve\")\n",
    "plt.legend(loc=\"lower right\")\n",
    "plt.grid()\n",
    "plt.show()"
   ],
   "id": "a14d8611532717bc",
   "outputs": [
    {
     "name": "stdout",
     "output_type": "stream",
     "text": [
      "Epoch 1/100\n",
      "413/413 [==============================] - 0s 684us/step - loss: 0.1568 - accuracy: 0.9468 - val_loss: 0.0783 - val_accuracy: 0.9661\n",
      "Epoch 2/100\n",
      "413/413 [==============================] - 0s 545us/step - loss: 0.0805 - accuracy: 0.9640 - val_loss: 0.0686 - val_accuracy: 0.9679\n",
      "Epoch 3/100\n",
      "413/413 [==============================] - 0s 543us/step - loss: 0.0702 - accuracy: 0.9680 - val_loss: 0.0654 - val_accuracy: 0.9691\n",
      "Epoch 4/100\n",
      "413/413 [==============================] - 0s 565us/step - loss: 0.0647 - accuracy: 0.9704 - val_loss: 0.0595 - val_accuracy: 0.9739\n",
      "Epoch 5/100\n",
      "413/413 [==============================] - 0s 559us/step - loss: 0.0623 - accuracy: 0.9708 - val_loss: 0.0552 - val_accuracy: 0.9764\n",
      "Epoch 6/100\n",
      "413/413 [==============================] - 0s 562us/step - loss: 0.0566 - accuracy: 0.9761 - val_loss: 0.0613 - val_accuracy: 0.9712\n",
      "Epoch 7/100\n",
      "413/413 [==============================] - 0s 533us/step - loss: 0.0573 - accuracy: 0.9746 - val_loss: 0.0563 - val_accuracy: 0.9758\n",
      "Epoch 8/100\n",
      "413/413 [==============================] - 0s 537us/step - loss: 0.0524 - accuracy: 0.9767 - val_loss: 0.0542 - val_accuracy: 0.9776\n",
      "Epoch 9/100\n",
      "413/413 [==============================] - 0s 544us/step - loss: 0.0530 - accuracy: 0.9760 - val_loss: 0.0525 - val_accuracy: 0.9791\n",
      "Epoch 10/100\n",
      "413/413 [==============================] - 0s 541us/step - loss: 0.0509 - accuracy: 0.9770 - val_loss: 0.0526 - val_accuracy: 0.9755\n",
      "Epoch 11/100\n",
      "413/413 [==============================] - 0s 532us/step - loss: 0.0514 - accuracy: 0.9780 - val_loss: 0.0525 - val_accuracy: 0.9767\n",
      "Epoch 12/100\n",
      "413/413 [==============================] - 0s 523us/step - loss: 0.0485 - accuracy: 0.9783 - val_loss: 0.0533 - val_accuracy: 0.9761\n",
      "Epoch 13/100\n",
      "413/413 [==============================] - 0s 530us/step - loss: 0.0484 - accuracy: 0.9793 - val_loss: 0.0521 - val_accuracy: 0.9776\n",
      "Epoch 14/100\n",
      "413/413 [==============================] - 0s 521us/step - loss: 0.0500 - accuracy: 0.9776 - val_loss: 0.0562 - val_accuracy: 0.9782\n",
      "Epoch 15/100\n",
      "413/413 [==============================] - 0s 526us/step - loss: 0.0477 - accuracy: 0.9796 - val_loss: 0.0508 - val_accuracy: 0.9788\n",
      "Epoch 16/100\n",
      "413/413 [==============================] - 0s 529us/step - loss: 0.0442 - accuracy: 0.9802 - val_loss: 0.0510 - val_accuracy: 0.9752\n",
      "Epoch 17/100\n",
      "413/413 [==============================] - 0s 540us/step - loss: 0.0472 - accuracy: 0.9790 - val_loss: 0.0528 - val_accuracy: 0.9779\n",
      "Epoch 18/100\n",
      "413/413 [==============================] - 0s 525us/step - loss: 0.0473 - accuracy: 0.9785 - val_loss: 0.0507 - val_accuracy: 0.9800\n",
      "Epoch 19/100\n",
      "413/413 [==============================] - 0s 525us/step - loss: 0.0445 - accuracy: 0.9806 - val_loss: 0.0510 - val_accuracy: 0.9785\n",
      "Epoch 20/100\n",
      "413/413 [==============================] - 0s 521us/step - loss: 0.0458 - accuracy: 0.9805 - val_loss: 0.0505 - val_accuracy: 0.9794\n",
      "Epoch 21/100\n",
      "413/413 [==============================] - 0s 526us/step - loss: 0.0425 - accuracy: 0.9816 - val_loss: 0.0522 - val_accuracy: 0.9779\n",
      "Epoch 22/100\n",
      "413/413 [==============================] - 0s 524us/step - loss: 0.0439 - accuracy: 0.9811 - val_loss: 0.0537 - val_accuracy: 0.9788\n",
      "Epoch 23/100\n",
      "413/413 [==============================] - 0s 531us/step - loss: 0.0424 - accuracy: 0.9807 - val_loss: 0.0580 - val_accuracy: 0.9773\n",
      "Epoch 24/100\n",
      "413/413 [==============================] - 0s 528us/step - loss: 0.0410 - accuracy: 0.9817 - val_loss: 0.0516 - val_accuracy: 0.9770\n",
      "Epoch 25/100\n",
      "413/413 [==============================] - 0s 539us/step - loss: 0.0427 - accuracy: 0.9802 - val_loss: 0.0524 - val_accuracy: 0.9788\n",
      "Epoch 26/100\n",
      "413/413 [==============================] - 0s 534us/step - loss: 0.0428 - accuracy: 0.9802 - val_loss: 0.0521 - val_accuracy: 0.9764\n",
      "Epoch 27/100\n",
      "413/413 [==============================] - 0s 543us/step - loss: 0.0425 - accuracy: 0.9805 - val_loss: 0.0572 - val_accuracy: 0.9788\n",
      "Epoch 28/100\n",
      "413/413 [==============================] - 0s 537us/step - loss: 0.0428 - accuracy: 0.9820 - val_loss: 0.0513 - val_accuracy: 0.9785\n",
      "Epoch 29/100\n",
      "413/413 [==============================] - 0s 548us/step - loss: 0.0413 - accuracy: 0.9814 - val_loss: 0.0530 - val_accuracy: 0.9785\n",
      "Epoch 30/100\n",
      "413/413 [==============================] - 0s 544us/step - loss: 0.0418 - accuracy: 0.9818 - val_loss: 0.0508 - val_accuracy: 0.9800\n",
      "129/129 [==============================] - 0s 221us/step\n",
      "Classification Report:\n",
      "               precision    recall  f1-score   support\n",
      "\n",
      "           0       0.99      0.99      0.99      3918\n",
      "           1       0.85      0.82      0.83       209\n",
      "\n",
      "    accuracy                           0.98      4127\n",
      "   macro avg       0.92      0.91      0.91      4127\n",
      "weighted avg       0.98      0.98      0.98      4127\n",
      "\n",
      "ROC-AUC Score: 0.9956048760352781\n",
      "True Positives (TP): 172\n",
      "False Positives (FP): 31\n",
      "True Negatives (TN): 3887\n",
      "False Negatives (FN): 37\n",
      "\n",
      "Confusion Matrix:\n",
      "[[3887   31]\n",
      " [  37  172]]\n",
      "AUROC: 0.9956048760352781\n"
     ]
    },
    {
     "data": {
      "text/plain": [
       "<Figure size 800x600 with 1 Axes>"
      ],
      "image/png": "[encoded data removed]"
     },
     "metadata": {},
     "output_type": "display_data"
    }
   ],
   "execution_count": 129
  },
  {
   "metadata": {
    "ExecuteTime": {
     "end_time": "2024-12-01T08:51:22.831336Z",
     "start_time": "2024-12-01T08:51:22.830106Z"
    }
   },
   "cell_type": "code",
   "source": "",
   "id": "d44d0690238b6f55",
   "outputs": [],
   "execution_count": null
  }
 ],
 "metadata": {
  "kernelspec": {
   "display_name": "Python 3",
   "language": "python",
   "name": "python3"
  },
  "language_info": {
   "codemirror_mode": {
    "name": "ipython",
    "version": 2
   },
   "file_extension": ".py",
   "mimetype": "text/x-python",
   "name": "python",
   "nbconvert_exporter": "python",
   "pygments_lexer": "ipython2",
   "version": "2.7.6"
  }
 },
 "nbformat": 4,
 "nbformat_minor": 5
}
